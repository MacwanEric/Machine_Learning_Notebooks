{
 "nbformat": 4,
 "nbformat_minor": 2,
 "metadata": {
  "language_info": {
   "name": "python",
   "codemirror_mode": {
    "name": "ipython",
    "version": 3
   },
   "version": "3.7.6-final"
  },
  "orig_nbformat": 2,
  "file_extension": ".py",
  "mimetype": "text/x-python",
  "name": "python",
  "npconvert_exporter": "python",
  "pygments_lexer": "ipython3",
  "version": 3,
  "kernelspec": {
   "name": "python37664bittensorflowenvconda12f1a46ab8cd4c2b96fa7a21d20fe2c8",
   "display_name": "Python 3.7.6 64-bit ('tensorflow_env': conda)"
  }
 },
 "cells": [
  {
   "cell_type": "code",
   "execution_count": 1,
   "metadata": {},
   "outputs": [],
   "source": [
    "import sklearn\n",
    "from sklearn.utils import shuffle\n",
    "from sklearn.neighbors import KNeighborsClassifier\n",
    "from sklearn import linear_model,preprocessing\n",
    "import pandas as pd\n",
    "import numpy as np \n",
    "\n"
   ]
  },
  {
   "cell_type": "code",
   "execution_count": 2,
   "metadata": {},
   "outputs": [
    {
     "data": {
      "text/html": "<div>\n<style scoped>\n    .dataframe tbody tr th:only-of-type {\n        vertical-align: middle;\n    }\n\n    .dataframe tbody tr th {\n        vertical-align: top;\n    }\n\n    .dataframe thead th {\n        text-align: right;\n    }\n</style>\n<table border=\"1\" class=\"dataframe\">\n  <thead>\n    <tr style=\"text-align: right;\">\n      <th></th>\n      <th>buying</th>\n      <th>maint</th>\n      <th>door</th>\n      <th>persons</th>\n      <th>lug_boot</th>\n      <th>safety</th>\n      <th>class</th>\n    </tr>\n  </thead>\n  <tbody>\n    <tr>\n      <th>0</th>\n      <td>vhigh</td>\n      <td>vhigh</td>\n      <td>2</td>\n      <td>2</td>\n      <td>small</td>\n      <td>low</td>\n      <td>unacc</td>\n    </tr>\n    <tr>\n      <th>1</th>\n      <td>vhigh</td>\n      <td>vhigh</td>\n      <td>2</td>\n      <td>2</td>\n      <td>small</td>\n      <td>med</td>\n      <td>unacc</td>\n    </tr>\n    <tr>\n      <th>2</th>\n      <td>vhigh</td>\n      <td>vhigh</td>\n      <td>2</td>\n      <td>2</td>\n      <td>small</td>\n      <td>high</td>\n      <td>unacc</td>\n    </tr>\n    <tr>\n      <th>3</th>\n      <td>vhigh</td>\n      <td>vhigh</td>\n      <td>2</td>\n      <td>2</td>\n      <td>med</td>\n      <td>low</td>\n      <td>unacc</td>\n    </tr>\n    <tr>\n      <th>4</th>\n      <td>vhigh</td>\n      <td>vhigh</td>\n      <td>2</td>\n      <td>2</td>\n      <td>med</td>\n      <td>med</td>\n      <td>unacc</td>\n    </tr>\n  </tbody>\n</table>\n</div>",
      "text/plain": "  buying  maint door persons lug_boot safety  class\n0  vhigh  vhigh    2       2    small    low  unacc\n1  vhigh  vhigh    2       2    small    med  unacc\n2  vhigh  vhigh    2       2    small   high  unacc\n3  vhigh  vhigh    2       2      med    low  unacc\n4  vhigh  vhigh    2       2      med    med  unacc"
     },
     "execution_count": 2,
     "metadata": {},
     "output_type": "execute_result"
    }
   ],
   "source": [
    "data = pd.read_csv(\"car.data\",sep=\",\")\n",
    "data.head()"
   ]
  },
  {
   "cell_type": "code",
   "execution_count": 7,
   "metadata": {},
   "outputs": [
    {
     "data": {
      "text/plain": "Index(['buying', 'maint', 'door', 'persons', 'lug_boot', 'safety', 'class'], dtype='object')"
     },
     "execution_count": 7,
     "metadata": {},
     "output_type": "execute_result"
    }
   ],
   "source": [
    "data.columns"
   ]
  },
  {
   "cell_type": "code",
   "execution_count": 3,
   "metadata": {},
   "outputs": [
    {
     "name": "stdout",
     "output_type": "stream",
     "text": "[[ 815,   95,  517, 1334, 1442,  368,  241,  966,  536]]))\npredicted:  good data :  (2, 0, 3, 1, 2, 1) Acutal :  good\nN:  (array([[1.        , 1.        , 1.        , 1.        , 1.        ,\n        1.        , 1.        , 1.41421356, 1.41421356]]), array([[ 682, 1338,  950,   43, 1100, 1412,  590,  798, 1270]]))\npredicted:  good data :  (1, 2, 1, 0, 2, 1) Acutal :  good\nN:  (array([[1.        , 1.        , 1.        , 1.        , 1.        ,\n        1.        , 1.        , 1.        , 1.41421356]]), array([[618, 873, 191, 295, 248, 664, 943, 904, 626]]))\npredicted:  unacc data :  (2, 0, 3, 1, 2, 0) Acutal :  unacc\nN:  (array([[1.        , 1.        , 1.        , 1.        , 1.        ,\n        1.        , 1.        , 1.41421356, 1.41421356]]), array([[ 604, 1122,  308,  552,  397,  670,  621,  521, 1338]]))\npredicted:  good data :  (3, 3, 1, 0, 0, 0) Acutal :  good\nN:  (array([[1.        , 1.        , 1.        , 1.        , 1.        ,\n        1.        , 1.        , 1.41421356, 1.41421356]]), array([[ 383,  404,  197, 1195, 1391,  293, 1023,  835, 1268]]))\npredicted:  unacc data :  (0, 2, 0, 1, 0, 2) Acutal :  unacc\nN:  (array([[1.        , 1.        , 1.        , 1.        , 1.        ,\n        1.        , 1.        , 1.41421356, 1.41421356]]), array([[1354,  530, 1350,  402, 1457,  179,  165, 1131,  906]]))\npredicted:  good data :  (1, 0, 0, 2, 0, 1) Acutal :  good\nN:  (array([[1.        , 1.        , 1.        , 1.        , 1.        ,\n        1.        , 1.41421356, 1.41421356, 1.41421356]]), array([[ 786,  323,  645,  431,  349, 1103, 1504,  454, 1369]]))\npredicted:  good data :  (2, 1, 1, 1, 1, 1) Acutal :  good\nN:  (array([[1., 1., 1., 1., 1., 1., 1., 1., 1.]]), array([[ 439,  869, 1087,  464,  832,  997,    2,  550, 1006]]))\npredicted:  good data :  (3, 1, 2, 0, 0, 2) Acutal :  good\nN:  (array([[1.        , 1.        , 1.        , 1.        , 1.        ,\n        1.        , 1.        , 1.41421356, 1.41421356]]), array([[ 566,  815, 1442, 1361,  554,  254,  221, 1145,  252]]))\npredicted:  good data :  (0, 0, 2, 1, 1, 1) Acutal :  good\nN:  (array([[1., 1., 1., 1., 1., 1., 1., 1., 1.]]), array([[1525,  828,  754,  721, 1137,  647,  438,  945, 1483]]))\npredicted:  good data :  (2, 2, 0, 2, 1, 1) Acutal :  good\nN:  (array([[1., 1., 1., 1., 1., 1., 1., 1., 1.]]), array([[ 818, 1161,   14, 1281, 1358, 1016, 1215,  378,  470]]))\npredicted:  good data :  (2, 0, 3, 0, 1, 2) Acutal :  good\nN:  (array([[1.        , 1.        , 1.        , 1.        , 1.        ,\n        1.        , 1.        , 1.        , 1.41421356]]), array([[ 563,  460, 1295, 1433,  821,  339,  240,  834,  855]]))\npredicted:  good data :  (3, 3, 1, 0, 2, 0) Acutal :  good\nN:  (array([[1.        , 1.        , 1.        , 1.        , 1.        ,\n        1.        , 1.        , 1.41421356, 1.41421356]]), array([[1082,  383,   79,  146,   13, 1503, 1152, 1204, 1268]]))\npredicted:  good data :  (2, 0, 1, 0, 1, 2) Acutal :  good\nN:  (array([[1.        , 1.        , 1.        , 1.        , 1.        ,\n        1.        , 1.41421356, 1.41421356, 1.41421356]]), array([[1282, 1321, 1124,  834,  792,  594,   76,  895, 1467]]))\npredicted:  unacc data :  (0, 0, 1, 2, 0, 0) Acutal :  unacc\nN:  (array([[1.        , 1.        , 1.        , 1.        , 1.        ,\n        1.        , 1.        , 1.41421356, 1.41421356]]), array([[ 579,  264,  584,   83, 1105, 1076,  513, 1103, 1054]]))\npredicted:  unacc data :  (2, 2, 1, 1, 2, 2) Acutal :  unacc\nN:  (array([[1., 1., 1., 1., 1., 1., 1., 1., 1.]]), array([[1073,  104,  158, 1325,  458,  642, 1246,  445,  113]]))\npredicted:  good data :  (2, 3, 0, 0, 1, 2) Acutal :  good\nN:  (array([[1.        , 1.        , 1.        , 1.        , 1.        ,\n        1.        , 1.        , 1.41421356, 1.41421356]]), array([[ 912,  453, 1313, 1089,  852, 1327,  468,  555,  443]]))\npredicted:  good data :  (0, 1, 0, 1, 1, 1) Acutal :  good\nN:  (array([[1., 1., 1., 1., 1., 1., 1., 1., 1.]]), array([[1028, 1102, 1031, 1326,  382, 1154,  166, 1239,  984]]))\npredicted:  good data :  (0, 2, 0, 1, 1, 2) Acutal :  good\nN:  (array([[1.        , 1.        , 1.        , 1.        , 1.        ,\n        1.        , 1.        , 1.41421356, 1.41421356]]), array([[ 384, 1278,  529,  885,  984,  624,  260,  530, 1457]]))\npredicted:  unacc data :  (0, 2, 1, 2, 0, 0) Acutal :  unacc\nN:  (array([[1.        , 1.        , 1.        , 1.        , 1.        ,\n        1.        , 1.        , 1.41421356, 1.41421356]]), array([[ 578, 1175, 1335,  584, 1071,   38,  775,  223,  154]]))\npredicted:  good data :  (3, 1, 2, 2, 1, 1) Acutal :  good\nN:  (array([[1., 1., 1., 1., 1., 1., 1., 1., 1.]]), array([[ 367,    4,  112,  715,  739,  307, 1165,  879,  101]]))\npredicted:  good data :  (0, 3, 0, 0, 0, 0) Acutal :  good\nN:  (array([[1.        , 1.        , 1.        , 1.        , 1.        ,\n        1.41421356, 1.41421356, 1.41421356, 1.41421356]]), array([[919, 143, 202, 414, 671, 522, 620, 153,  15]]))\npredicted:  vgood data :  (2, 1, 2, 2, 0, 0) Acutal :  vgood\nN:  (array([[1., 1., 1., 1., 1., 1., 1., 1., 1.]]), array([[   5,  411, 1518,  351, 1519, 1211,  198,  826, 1431]]))\npredicted:  good data :  (0, 1, 0, 2, 2, 2) Acutal :  good\nN:  (array([[1.        , 1.        , 1.        , 1.        , 1.        ,\n        1.        , 1.        , 1.41421356, 1.41421356]]), array([[  28, 1140, 1090, 1288, 1329,  752,   88, 1326,  309]]))\npredicted:  good data :  (1, 2, 0, 0, 1, 1) Acutal :  good\nN:  (array([[1.        , 1.        , 1.        , 1.        , 1.        ,\n        1.        , 1.        , 1.        , 1.41421356]]), array([[1111,  126,  354,  609,   20, 1363,  873,   12,  280]]))\npredicted:  unacc data :  (1, 0, 2, 1, 1, 2) Acutal :  unacc\nN:  (array([[1., 1., 1., 1., 1., 1., 1., 1., 1.]]), array([[1137,  341, 1086,   82, 1467,  985,   58,  895,  824]]))\npredicted:  unacc data :  (2, 0, 2, 2, 2, 0) Acutal :  unacc\nN:  (array([[1.        , 1.        , 1.        , 1.        , 1.        ,\n        1.        , 1.        , 1.        , 1.41421356]]), array([[ 552, 1272,  428, 1252,  621, 1478,  253,  558, 1431]]))\npredicted:  good data :  (2, 1, 1, 0, 1, 1) Acutal :  good\nN:  (array([[1., 1., 1., 1., 1., 1., 1., 1., 1.]]), array([[  17,   85,  968,  868,  270, 1321, 1282, 1070, 1027]]))\npredicted:  unacc data :  (2, 2, 1, 2, 1, 0) Acutal :  vgood\nN:  (array([[1.        , 1.        , 1.        , 1.        , 1.        ,\n        1.        , 1.        , 1.        , 1.41421356]]), array([[1161,  519,  705, 1121, 1260,  218, 1358, 1495, 1180]]))\npredicted:  good data :  (0, 1, 1, 2, 0, 1) Acutal :  good\nN:  (array([[1.        , 1.        , 1.        , 1.        , 1.        ,\n        1.        , 1.        , 1.        , 1.41421356]]), array([[ 315,  584, 1206,  578,   56,  264,  454,  710,  382]]))\npredicted:  good data :  (2, 1, 3, 0, 2, 2) Acutal :  good\nN:  (array([[1.        , 1.        , 1.        , 1.        , 1.        ,\n        1.        , 1.        , 1.41421356, 1.41421356]]), array([[ 457, 1376,   51,  339,  141,  229,  821, 1157,  326]]))\npredicted:  good data :  (1, 0, 1, 1, 0, 1) Acutal :  good\nN:  (array([[1., 1., 1., 1., 1., 1., 1., 1., 1.]]), array([[1315,  788,  431,  472, 1054,  738,  786,  947,  712]]))\npredicted:  good data :  (2, 1, 2, 0, 1, 2) Acutal :  good\nN:  (array([[1., 1., 1., 1., 1., 1., 1., 1., 1.]]), array([[ 339,  520,  221, 1282,  834,  228,   85,  566, 1077]]))\npredicted:  good data :  (2, 0, 1, 0, 1, 0) Acutal :  good\nN:  (array([[1., 1., 1., 1., 1., 1., 1., 1., 1.]]), array([[ 270,  658, 1196,   71, 1321,  883,  929, 1303,  657]]))\npredicted:  good data :  (3, 1, 1, 1, 1, 2) Acutal :  good\nN:  (array([[1., 1., 1., 1., 1., 1., 1., 1., 1.]]), array([[ 244,  959, 1470,  201, 1328,  464, 1051, 1087, 1163]]))\npredicted:  acc data :  (1, 1, 3, 1, 1, 2) Acutal :  acc\nN:  (array([[1., 1., 1., 1., 1., 1., 1., 1., 1.]]), array([[1486,  319,   58,  320, 1387,  246, 1189, 1011,   82]]))\npredicted:  good data :  (3, 3, 2, 0, 2, 1) Acutal :  good\nN:  (array([[1.        , 1.        , 1.        , 1.        , 1.        ,\n        1.        , 1.        , 1.        , 1.41421356]]), array([[1092,   13,  146,  392, 1038, 1533,  716, 1291, 1454]]))\npredicted:  good data :  (2, 3, 3, 0, 1, 1) Acutal :  good\nN:  (array([[1., 1., 1., 1., 1., 1., 1., 1., 1.]]), array([[1197, 1536,  583, 1013,  898,  780,  948,  564,  366]]))\npredicted:  good data :  (0, 1, 1, 0, 1, 0) Acutal :  good\nN:  (array([[1., 1., 1., 1., 1., 1., 1., 1., 1.]]), array([[1300,   30,  570, 1262, 1530,  425,  400,  363,  989]]))\npredicted:  vgood data :  (1, 1, 1, 2, 0, 0) Acutal :  vgood\nN:  (array([[1.        , 1.        , 1.        , 1.        , 1.        ,\n        1.        , 1.        , 1.        , 1.41421356]]), array([[ 315,  514,  513,  351, 1175,  584,  424,  826, 1103]]))\npredicted:  good data :  (2, 2, 3, 2, 2, 1) Acutal :  good\nN:  (array([[1.        , 1.        , 1.        , 1.        , 1.        ,\n        1.        , 1.        , 1.41421356, 1.41421356]]), array([[1296,   66, 1419,  491, 1422, 1475,  608, 1040,  836]]))\npredicted:  good data :  (3, 0, 0, 0, 1, 1) Acutal :  good\nN:  (array([[1.        , 1.        , 1.        , 1.        , 1.        ,\n        1.        , 1.        , 1.        , 1.41421356]]), array([[ 863,  225,   36,  167, 1371,  452,   72,  980, 1193]]))\npredicted:  good data :  (0, 1, 2, 1, 2, 2) Acutal :  good\nN:  (array([[1.        , 1.        , 1.        , 1.        , 1.        ,\n        1.        , 1.        , 1.41421356, 1.41421356]]), array([[1135,  675,  673,    6,  703,  926, 1217,  784, 1232]]))\npredicted:  good data :  (0, 2, 0, 1, 1, 1) Acutal :  good\nN:  (array([[1.        , 1.        , 1.        , 1.        , 1.        ,\n        1.        , 1.        , 1.        , 1.41421356]]), array([[ 103,   20,  100, 1363, 1440,  935,  592, 1457, 1021]]))\npredicted:  good data :  (1, 3, 0, 2, 2, 0) Acutal :  good\nN:  (array([[1.        , 1.        , 1.        , 1.        , 1.        ,\n        1.        , 1.41421356, 1.41421356, 1.41421356]]), array([[1372,   34,  273,  204,  230,  881,  492, 1173, 1388]]))\npredicted:  good data :  (0, 3, 3, 1, 0, 0) Acutal :  good\nN:  (array([[1.        , 1.        , 1.        , 1.        , 1.        ,\n        1.        , 1.        , 1.41421356, 1.41421356]]), array([[ 733,  870,  407,  796,  474,  790,  251,  209, 1374]]))\npredicted:  good data :  (0, 3, 1, 2, 1, 1) Acutal :  good\nN:  (array([[1.        , 1.        , 1.        , 1.        , 1.        ,\n        1.        , 1.        , 1.        , 1.41421356]]), array([[ 978, 1464,  648,  961,  370, 1511, 1485,  748,  100]]))\npredicted:  good data :  (1, 3, 2, 2, 1, 1) Acutal :  good\nN:  (array([[1., 1., 1., 1., 1., 1., 1., 1., 1.]]), array([[ 406,  991,  961,  638, 1426,  862, 1160,  668,   25]]))\npredicted:  good data :  (1, 2, 0, 0, 2, 1) Acutal :  good\nN:  (array([[1.        , 1.        , 1.        , 1.        , 1.        ,\n        1.        , 1.        , 1.41421356, 1.41421356]]), array([[  96,  347, 1423, 1237,  441,  932, 1123, 1111,  248]]))\npredicted:  good data :  (3, 2, 0, 0, 0, 2) Acutal :  good\nN:  (array([[1.        , 1.        , 1.        , 1.        , 1.        ,\n        1.        , 1.        , 1.41421356, 1.41421356]]), array([[  74, 1273,  557,  385,  322, 1118, 1500,   18, 1313]]))\npredicted:  unacc data :  (3, 2, 1, 2, 2, 0) Acutal :  unacc\nN:  (array([[1.        , 1.        , 1.        , 1.        , 1.        ,\n        1.        , 1.        , 1.        , 1.41421356]]), array([[1222,  218, 1052, 1512, 1179,  705, 1339,  504,  587]]))\npredicted:  good data :  (3, 2, 2, 1, 0, 1) Acutal :  good\nN:  (array([[1., 1., 1., 1., 1., 1., 1., 1., 1.]]), array([[ 173, 1405, 1463,  403,   64, 1505,  121,  298,  801]]))\npredicted:  good data :  (2, 2, 2, 1, 2, 1) Acutal :  good\nN:  (array([[1.        , 1.        , 1.        , 1.        , 1.        ,\n        1.        , 1.        , 1.        , 1.41421356]]), array([[ 463, 1246,  494, 1453,  104, 1461,  591,   66, 1041]]))\npredicted:  good data :  (0, 2, 2, 0, 2, 2) Acutal :  good\nN:  (array([[1.        , 1.        , 1.        , 1.        , 1.        ,\n        1.        , 1.        , 1.41421356, 1.41421356]]), array([[ 783, 1451,   81,  750,  926,  717, 1507,  618, 1187]]))\npredicted:  good data :  (3, 0, 1, 1, 2, 0) Acutal :  good\nN:  (array([[1.        , 1.        , 1.        , 1.        , 1.        ,\n        1.        , 1.        , 1.        , 1.41421356]]), array([[1319, 1048,  500,  899,  949, 1479,  242,  247,  499]]))\npredicted:  good data :  (3, 2, 0, 2, 1, 2) Acutal :  good\nN:  (array([[1.        , 1.        , 1.        , 1.        , 1.        ,\n        1.        , 1.        , 1.41421356, 1.41421356]]), array([[979, 470, 696, 544,  14, 369, 827, 163, 164]]))\npredicted:  good data :  (1, 1, 2, 0, 1, 0) Acutal :  good\nN:  (array([[1., 1., 1., 1., 1., 1., 1., 1., 1.]]), array([[1262,  573, 1219,    9,  714,  706,  831,  989, 1348]]))\npredicted:  good data :  (1, 0, 3, 2, 1, 1) Acutal :  good\nN:  (array([[1., 1., 1., 1., 1., 1., 1., 1., 1.]]), array([[1024,  769,  533, 1270,   77, 1394,  359,  258,  798]]))\npredicted:  good data :  (3, 3, 0, 1, 1, 1) Acutal :  good\nN:  (array([[1.        , 1.        , 1.        , 1.        , 1.        ,\n        1.        , 1.        , 1.        , 1.41421356]]), array([[ 962,  512, 1143,  585, 1488,   41,  142,  422,  762]]))\npredicted:  good data :  (0, 2, 3, 0, 2, 1) Acutal :  good\nN:  (array([[1.        , 1.        , 1.        , 1.        , 1.        ,\n        1.        , 1.        , 1.        , 1.41421356]]), array([[1201,   78, 1178,  990, 1037,  783, 1032, 1451,  636]]))\npredicted:  unacc data :  (0, 1, 3, 2, 0, 2) Acutal :  unacc\nN:  (array([[1.        , 1.        , 1.        , 1.        , 1.        ,\n        1.        , 1.        , 1.41421356, 1.41421356]]), array([[ 847, 1307, 1257, 1499,  650, 1136,   27,  845,   56]]))\npredicted:  unacc data :  (2, 0, 0, 2, 1, 0) Acutal :  unacc\nN:  (array([[1.        , 1.        , 1.        , 1.        , 1.        ,\n        1.        , 1.        , 1.        , 1.41421356]]), array([[ 588,  605,  196,  924, 1188, 1366, 1497, 1034, 1308]]))\npredicted:  vgood data :  (1, 1, 3, 1, 1, 0) Acutal :  vgood\nN:  (array([[1., 1., 1., 1., 1., 1., 1., 1., 1.]]), array([[   9, 1125, 1213,  412,  547, 1387,  714, 1200, 1395]]))\npredicted:  good data :  (0, 2, 2, 0, 2, 0) Acutal :  good\nN:  (array([[1.        , 1.        , 1.        , 1.        , 1.        ,\n        1.        , 1.        , 1.        , 1.41421356]]), array([[ 450, 1451,  372, 1085,  745,   78,  114, 1064,  664]]))\npredicted:  acc data :  (1, 2, 1, 2, 1, 0) Acutal :  vgood\nN:  (array([[1.        , 1.        , 1.        , 1.        , 1.        ,\n        1.        , 1.        , 1.        , 1.41421356]]), array([[ 492, 1320, 1175, 1180, 1335,  362,  311, 1509,  273]]))\npredicted:  unacc data :  (3, 2, 2, 1, 1, 0) Acutal :  unacc\nN:  (array([[1., 1., 1., 1., 1., 1., 1., 1., 1.]]), array([[ 145, 1531,  801,  971, 1336, 1067,  930, 1505, 1063]]))\npredicted:  good data :  (0, 3, 3, 1, 2, 0) Acutal :  good\nN:  (array([[1.        , 1.        , 1.        , 1.        , 1.        ,\n        1.        , 1.        , 1.41421356, 1.41421356]]), array([[1360,  251,  208,  299, 1333, 1506, 1420,   78, 1201]]))\npredicted:  good data :  (0, 2, 2, 0, 1, 1) Acutal :  good\nN:  (array([[1., 1., 1., 1., 1., 1., 1., 1., 1.]]), array([[ 998,  399, 1521, 1451,  745, 1178,   81,  187,  767]]))\npredicted:  good data :  (0, 0, 2, 0, 1, 0) Acutal :  good\nN:  (array([[1.        , 1.        , 1.        , 1.        , 1.        ,\n        1.        , 1.        , 1.        , 1.41421356]]), array([[ 570, 1262,  880,  706,  721,  819,  945,  105,  883]]))\npredicted:  good data :  (3, 0, 1, 2, 0, 1) Acutal :  good\nN:  (array([[1.        , 1.        , 1.        , 1.        , 1.        ,\n        1.        , 1.        , 1.        , 1.41421356]]), array([[1014, 1236,  310,  115,  736, 1242,  699, 1171,  511]]))\npredicted:  good data :  (3, 0, 1, 0, 2, 1) Acutal :  good\nN:  (array([[1.        , 1.        , 1.        , 1.        , 1.        ,\n        1.        , 1.        , 1.        , 1.41421356]]), array([[ 849,  117,  980,  734,  242,  956,  949, 1371,  180]]))\npredicted:  good data :  (2, 0, 3, 1, 2, 2) Acutal :  good\nN:  (array([[1.        , 1.        , 1.        , 1.        , 1.        ,\n        1.        , 1.        , 1.41421356, 1.41421356]]), array([[ 821, 1156,   51, 1433, 1294, 1209,  542, 1412,  266]]))\npredicted:  good data :  (2, 2, 0, 1, 0, 1) Acutal :  good\nN:  (array([[1., 1., 1., 1., 1., 1., 1., 1., 1.]]), array([[1069,  269,  889, 1215,  818, 1523,  262,  448,  279]]))\npredicted:  good data :  (2, 2, 3, 1, 2, 1) Acutal :  good\nN:  (array([[1.        , 1.        , 1.        , 1.        , 1.        ,\n        1.        , 1.        , 1.        , 1.41421356]]), array([[ 836,  676, 1172,  590, 1115, 1544,  864, 1377, 1032]]))\npredicted:  good data :  (3, 1, 3, 2, 1, 1) Acutal :  good\nN:  (array([[1.        , 1.        , 1.        , 1.        , 1.        ,\n        1.        , 1.        , 1.41421356, 1.41421356]]), array([[1007, 1186, 1297,  333,  487,  161,  249, 1276,   29]]))\npredicted:  good data :  (2, 1, 0, 1, 2, 1) Acutal :  good\nN:  (array([[1., 1., 1., 1., 1., 1., 1., 1., 1.]]), array([[ 760,  723,  718,  806,  168,    2, 1045, 1006,   89]]))\npredicted:  good data :  (1, 3, 1, 0, 0, 1) Acutal :  good\nN:  (array([[1.        , 1.        , 1.        , 1.        , 1.        ,\n        1.        , 1.        , 1.41421356, 1.41421356]]), array([[ 280,  975, 1208,   65,   67, 1437,  918, 1001,  873]]))\npredicted:  good data :  (3, 3, 3, 2, 2, 1) Acutal :  good\nN:  (array([[1.        , 1.        , 1.        , 1.        , 1.        ,\n        1.        , 1.        , 1.41421356, 1.41421356]]), array([[ 735,  608,  805, 1097,   31, 1015, 1296, 1098, 1340]]))\npredicted:  good data :  (1, 3, 0, 2, 2, 1) Acutal :  good\nN:  (array([[1.        , 1.        , 1.        , 1.        , 1.        ,\n        1.        , 1.        , 1.41421356, 1.41421356]]), array([[ 219,  629, 1388,  348,  843, 1173, 1554,  432,  626]]))\npredicted:  good data :  (2, 2, 0, 0, 1, 2) Acutal :  good\nN:  (array([[1.        , 1.        , 1.        , 1.        , 1.        ,\n        1.        , 1.        , 1.        , 1.41421356]]), array([[1118,    3,  951,  691,  354,  609,  322, 1452, 1259]]))\npredicted:  unacc data :  (3, 1, 3, 2, 1, 2) Acutal :  unacc\nN:  (array([[1.        , 1.        , 1.        , 1.        , 1.        ,\n        1.        , 1.        , 1.41421356, 1.41421356]]), array([[ 330,  367,  860, 1538, 1526,  282,  135,  319,  340]]))\npredicted:  good data :  (3, 2, 3, 0, 0, 0) Acutal :  good\nN:  (array([[1.        , 1.        , 1.        , 1.        , 1.        ,\n        1.        , 1.        , 1.41421356, 1.41421356]]), array([[ 966, 1334,  416,  850,  701,  234,   99,  197, 1456]]))\npredicted:  good data :  (0, 2, 0, 0, 0, 0) Acutal :  good\nN:  (array([[1.        , 1.        , 1.        , 1.        , 1.        ,\n        1.        , 1.41421356, 1.41421356, 1.41421356]]), array([[1306, 1131,  353, 1191,  172,  447, 1427, 1457, 1440]]))\npredicted:  unacc data :  (3, 2, 0, 2, 0, 2) Acutal :  unacc\nN:  (array([[1.        , 1.        , 1.        , 1.        , 1.        ,\n        1.41421356, 1.41421356, 1.41421356, 1.41421356]]), array([[  49,  163, 1500, 1444, 1381,  369,  889,  913,  654]]))\npredicted:  good data :  (2, 1, 2, 0, 2, 2) Acutal :  good\nN:  (array([[1.        , 1.        , 1.        , 1.        , 1.        ,\n        1.        , 1.41421356, 1.41421356, 1.41421356]]), array([[1473,  268, 1459,   44, 1522,  326,  750, 1077, 1410]]))\npredicted:  good data :  (0, 1, 3, 0, 2, 0) Acutal :  good\nN:  (array([[1.        , 1.        , 1.        , 1.        , 1.        ,\n        1.        , 1.41421356, 1.41421356, 1.41421356]]), array([[1085,  936,   78,  896,  990,  643,  880,  986,  819]]))\npredicted:  good data :  (0, 3, 2, 1, 0, 1) Acutal :  good\nN:  (array([[1., 1., 1., 1., 1., 1., 1., 1., 1.]]), array([[ 387, 1139,  343,  641,   33, 1155,  796, 1462,  474]]))\n"
    },
    {
     "ename": "NameError",
     "evalue": "name 'style' is not defined",
     "output_type": "error",
     "traceback": [
      "\u001b[0;31m---------------------------------------------------------------------------\u001b[0m",
      "\u001b[0;31mNameError\u001b[0m                                 Traceback (most recent call last)",
      "\u001b[0;32m<ipython-input-3-0ccad1a7be56>\u001b[0m in \u001b[0;36m<module>\u001b[0;34m\u001b[0m\n\u001b[1;32m     38\u001b[0m \u001b[0;31m#for p in ['G1','G2','studytime','failures','absences']:\u001b[0m\u001b[0;34m\u001b[0m\u001b[0;34m\u001b[0m\u001b[0;34m\u001b[0m\u001b[0m\n\u001b[1;32m     39\u001b[0m \u001b[0mp\u001b[0m \u001b[0;34m=\u001b[0m\u001b[0;34m'buying'\u001b[0m\u001b[0;34m\u001b[0m\u001b[0;34m\u001b[0m\u001b[0m\n\u001b[0;32m---> 40\u001b[0;31m \u001b[0mstyle\u001b[0m\u001b[0;34m.\u001b[0m\u001b[0muse\u001b[0m\u001b[0;34m(\u001b[0m\u001b[0;34m\"ggplot\"\u001b[0m\u001b[0;34m)\u001b[0m\u001b[0;34m\u001b[0m\u001b[0;34m\u001b[0m\u001b[0m\n\u001b[0m\u001b[1;32m     41\u001b[0m \u001b[0mpyplot\u001b[0m\u001b[0;34m.\u001b[0m\u001b[0mscatter\u001b[0m\u001b[0;34m(\u001b[0m\u001b[0mdata\u001b[0m\u001b[0;34m[\u001b[0m\u001b[0mp\u001b[0m\u001b[0;34m]\u001b[0m\u001b[0;34m,\u001b[0m\u001b[0mdata\u001b[0m\u001b[0;34m[\u001b[0m\u001b[0;34m'class'\u001b[0m\u001b[0;34m]\u001b[0m\u001b[0;34m)\u001b[0m\u001b[0;34m\u001b[0m\u001b[0;34m\u001b[0m\u001b[0m\n\u001b[1;32m     42\u001b[0m \u001b[0mpyplot\u001b[0m\u001b[0;34m.\u001b[0m\u001b[0mxlabel\u001b[0m\u001b[0;34m(\u001b[0m\u001b[0mp\u001b[0m\u001b[0;34m)\u001b[0m\u001b[0;34m\u001b[0m\u001b[0;34m\u001b[0m\u001b[0m\n",
      "\u001b[0;31mNameError\u001b[0m: name 'style' is not defined"
     ]
    }
   ],
   "source": [
    "# Here labelencoder will take lables in file and turn them in integer values\n",
    "le = preprocessing.LabelEncoder() #creating object\n",
    "\n",
    "#This will take entire buying column, convert it in list and transform it in integers\n",
    "#following will return to us a numpy arraru\n",
    "buying = le.fit_transform(list(data[\"buying\"])) \n",
    "maint = le.fit_transform(list(data[\"maint\"])) \n",
    "door = le.fit_transform(list(data[\"door\"])) \n",
    "persons = le.fit_transform(list(data[\"persons\"])) \n",
    "lug_boot = le.fit_transform(list(data[\"lug_boot\"])) \n",
    "safety = le.fit_transform(list(data[\"safety\"])) \n",
    "cls = le.fit_transform(list(data[\"class\"])) \n",
    "\n",
    "print(buying)\n",
    "\n",
    "predict = \"class\"\n",
    "\n",
    "X = list(zip(buying,maint,door,persons,lug_boot,safety))\n",
    "Y = list(cls)\n",
    "\n",
    "x_train, x_test, y_train, y_test = sklearn.model_selection.train_test_split( X, Y, test_size=0.1)\n",
    "#print(x_train,y_test)\n",
    "\n",
    "model = KNeighborsClassifier(n_neighbors=9)\n",
    "\n",
    "model.fit(x_train,y_train)\n",
    "acc = model.score(x_test,y_test)\n",
    "print(acc)\n",
    "\n",
    "predicted = model.predict(x_test)\n",
    "names = ['unacc','acc','good','vgood']\n",
    "\n",
    "for x in range(len(predicted)):\n",
    "    print(\"predicted: \",names[predicted[x]], \"data : \", x_test[x], \"Acutal : \", names[y_test[x]])\n",
    "    n = model.kneighbors([x_test[x]],9,True)\n",
    "    print(\"N: \",n)\n",
    "\n"
   ]
  },
  {
   "cell_type": "code",
   "execution_count": null,
   "metadata": {},
   "outputs": [],
   "source": []
  }
 ]
}